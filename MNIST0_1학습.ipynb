{
  "nbformat": 4,
  "nbformat_minor": 0,
  "metadata": {
    "colab": {
      "provenance": [],
      "authorship_tag": "ABX9TyPk4rEn0M8jEcVgbVR1nmXH",
      "include_colab_link": true
    },
    "kernelspec": {
      "name": "python3",
      "display_name": "Python 3"
    },
    "language_info": {
      "name": "python"
    }
  },
  "cells": [
    {
      "cell_type": "markdown",
      "metadata": {
        "id": "view-in-github",
        "colab_type": "text"
      },
      "source": [
        "<a href=\"https://colab.research.google.com/github/boram-coco/coco1/blob/master/MNIST0_1%ED%95%99%EC%8A%B5.ipynb\" target=\"_parent\"><img src=\"https://colab.research.google.com/assets/colab-badge.svg\" alt=\"Open In Colab\"/></a>"
      ]
    },
    {
      "cell_type": "markdown",
      "source": [
        "(1) 숫자0과 숫자1을 구분하는 네트워크를 아래와 같은 구조로 설계하라"
      ],
      "metadata": {
        "id": "i8PopLa0C4uo"
      }
    },
    {
      "cell_type": "code",
      "execution_count": 1,
      "metadata": {
        "id": "pNu4W-jYAnzq"
      },
      "outputs": [],
      "source": [
        "import torch\n",
        "import torchvision\n",
        "from fastai.data.all import *\n",
        "import matplotlib.pyplot as plt"
      ]
    },
    {
      "cell_type": "code",
      "source": [
        "path = untar_data(URLs.MNIST)"
      ],
      "metadata": {
        "id": "FTrptjzCAyLw"
      },
      "execution_count": 24,
      "outputs": []
    },
    {
      "cell_type": "code",
      "source": [
        "zero_fnames = (path/'training/0').ls()\n",
        "one_fnames = (path/'training/1').ls()"
      ],
      "metadata": {
        "id": "sv8-JFJPBCcR"
      },
      "execution_count": 25,
      "outputs": []
    },
    {
      "cell_type": "code",
      "source": [
        "X0 = torch.stack([torchvision.io.read_image(str(zf)) for zf in zero_fnames])\n",
        "X1 = torch.stack([torchvision.io.read_image(str(of)) for of in one_fnames])\n",
        "X = torch.concat([X0,X1],axis=0).reshape(-1,1*28*28).float()\n",
        "y = torch.tensor([0.0]*len(X0) + [1.0]*len(X1)).reshape(-1,1)"
      ],
      "metadata": {
        "id": "AIcRsUG9BhKa"
      },
      "execution_count": 27,
      "outputs": []
    },
    {
      "cell_type": "code",
      "source": [
        "torch.manual_seed(43052)\n",
        "net = torch.nn.Sequential(\n",
        "    torch.nn.Linear(784,64),\n",
        "    torch.nn.ReLU(),\n",
        "    torch.nn.Linear(64,1),\n",
        "    torch.nn.Sigmoid()\n",
        ")"
      ],
      "metadata": {
        "id": "edNltkQhBod4"
      },
      "execution_count": 28,
      "outputs": []
    },
    {
      "cell_type": "markdown",
      "source": [
        "(2) 아래의 지침에 따라 200 epoch 학습을 진행하라.\n",
        "\n",
        "손실함수는 BECLoss를 이용할 것. torch.nn.BCELoss() 를 이용할 것.\n",
        "옵티마이저는 아담으로 설정할 것. 학습률은 lr=0.002로 설정할 것."
      ],
      "metadata": {
        "id": "jgrWW9E5C2kQ"
      }
    },
    {
      "cell_type": "code",
      "source": [
        "loss_fn = torch.nn.BCELoss()\n",
        "optimizr = torch.optim.Adam(net.parameters(),lr=0.002)"
      ],
      "metadata": {
        "id": "pGV0Zww8B6A1"
      },
      "execution_count": 29,
      "outputs": []
    },
    {
      "cell_type": "code",
      "source": [
        "for epoc in range(200):\n",
        "\n",
        "        yhat = net(X)\n",
        "        loss = loss_fn(yhat, y) \n",
        "        loss.backward()\n",
        "        optimizr.step()\n",
        "        optimizr.zero_grad()"
      ],
      "metadata": {
        "id": "rTNmALhJCGgs"
      },
      "execution_count": 30,
      "outputs": []
    },
    {
      "cell_type": "code",
      "source": [
        "plt.plot(y)\n",
        "plt.plot(yhat.data,'p')"
      ],
      "metadata": {
        "colab": {
          "base_uri": "https://localhost:8080/",
          "height": 284
        },
        "id": "ykQ9lliYCjcf",
        "outputId": "fe93709e-c36e-467f-ef0b-53ab16aa4658"
      },
      "execution_count": 31,
      "outputs": [
        {
          "output_type": "execute_result",
          "data": {
            "text/plain": [
              "[<matplotlib.lines.Line2D at 0x7f1b14951250>]"
            ]
          },
          "metadata": {},
          "execution_count": 31
        },
        {
          "output_type": "display_data",
          "data": {
            "text/plain": [
              "<Figure size 432x288 with 1 Axes>"
            ],
            "image/png": "[encoded data removed]"
          },
          "metadata": {
            "needs_background": "light"
          }
        }
      ]
    },
    {
      "cell_type": "markdown",
      "source": [
        "(3) 아래의 지침에 따라 200 epoch 학습을 진행하라. 학습이 잘 되는가?\n",
        "\n",
        "손실함수는 BECLoss를 이용할 것. torch.nn.BCELoss()를 사용하지 않고 수식을 직접 입력할 것.\n",
        "옵티마이저는 아담으로 설정할 것. 학습률은 lr=0.002로 설정할 것."
      ],
      "metadata": {
        "id": "Mg3ejJ_2Czam"
      }
    },
    {
      "cell_type": "code",
      "source": [
        "torch.manual_seed(43052)\n",
        "net = torch.nn.Sequential(\n",
        "    torch.nn.Linear(784,64),\n",
        "    torch.nn.ReLU(),\n",
        "    torch.nn.Linear(64,1),\n",
        "    torch.nn.Sigmoid()\n",
        ")"
      ],
      "metadata": {
        "id": "WRqLAM_hCtfS"
      },
      "execution_count": 32,
      "outputs": []
    },
    {
      "cell_type": "code",
      "source": [
        "optimizr = torch.optim.Adam(net.parameters(),lr=0.002)"
      ],
      "metadata": {
        "id": "sBRW_SunC_lj"
      },
      "execution_count": 33,
      "outputs": []
    },
    {
      "cell_type": "code",
      "source": [
        "for epoc in range(200):\n",
        "\n",
        "        yhat = net(X)\n",
        "        loss = -torch.mean(y*torch.log(yhat) + (1-y)*torch.log(1-yhat))\n",
        "        loss.backward()\n",
        "        optimizr.step()\n",
        "        optimizr.zero_grad()"
      ],
      "metadata": {
        "id": "JtfOK9HHDHLZ"
      },
      "execution_count": 34,
      "outputs": []
    },
    {
      "cell_type": "code",
      "source": [
        "plt.plot(y)\n",
        "plt.plot(yhat.data,'o')"
      ],
      "metadata": {
        "colab": {
          "base_uri": "https://localhost:8080/",
          "height": 284
        },
        "id": "xcxaQqTTDqvO",
        "outputId": "94a86ec8-5157-4be3-f566-8bc0f1f6fe46"
      },
      "execution_count": 35,
      "outputs": [
        {
          "output_type": "execute_result",
          "data": {
            "text/plain": [
              "[<matplotlib.lines.Line2D at 0x7f1b160b7a50>]"
            ]
          },
          "metadata": {},
          "execution_count": 35
        },
        {
          "output_type": "display_data",
          "data": {
            "text/plain": [
              "<Figure size 432x288 with 1 Axes>"
            ],
            "image/png": "[encoded data removed]"
          },
          "metadata": {
            "needs_background": "light"
          }
        }
      ]
    },
    {
      "cell_type": "markdown",
      "source": [
        "학습이 안된다."
      ],
      "metadata": {
        "id": "3cJlOd6pFBT0"
      }
    },
    {
      "cell_type": "markdown",
      "source": [
        "(4) 아래의 지침에 따라 200 epoch 학습을 진행하라. 학습이 잘 되는가?\n",
        "\n",
        "이미지의 값을 0과 1사이로 규격화 하라. (Xnp = Xnp/255 를 이용하세요!)\n",
        "손실함수는 BECLoss를 이용할 것. torch.nn.BCELoss()를 사용하지 않고 수식을 직접 입력할 것.\n",
        "옵티마이저는 아담으로 설정할 것. 학습률은 lr=0.002로 설정할 것."
      ],
      "metadata": {
        "id": "xwKyjIY9D-hv"
      }
    },
    {
      "cell_type": "code",
      "source": [
        "X = X/255 "
      ],
      "metadata": {
        "id": "9gIFjTlXEBQJ"
      },
      "execution_count": 36,
      "outputs": []
    },
    {
      "cell_type": "code",
      "source": [
        "torch.manual_seed(43052)\n",
        "net = torch.nn.Sequential(\n",
        "    torch.nn.Linear(784,64),\n",
        "    torch.nn.ReLU(),\n",
        "    torch.nn.Linear(64,1),\n",
        "    torch.nn.Sigmoid()\n",
        ")"
      ],
      "metadata": {
        "id": "J-AuFyC3EG3z"
      },
      "execution_count": 37,
      "outputs": []
    },
    {
      "cell_type": "code",
      "source": [
        "optimizr = torch.optim.Adam(net.parameters(),lr=0.002)"
      ],
      "metadata": {
        "id": "_RVfvx-SEKMV"
      },
      "execution_count": 38,
      "outputs": []
    },
    {
      "cell_type": "code",
      "source": [
        "for epoc in range(200):\n",
        "\n",
        "        yhat = net(X)\n",
        "        loss = -torch.mean(y*torch.log(yhat) + (1-y)*torch.log(1-yhat))\n",
        "        loss.backward()\n",
        "        optimizr.step()\n",
        "        optimizr.zero_grad()"
      ],
      "metadata": {
        "id": "zm49637EEOq9"
      },
      "execution_count": 39,
      "outputs": []
    },
    {
      "cell_type": "code",
      "source": [
        "plt.plot(y)\n",
        "plt.plot(yhat.data,'o')"
      ],
      "metadata": {
        "colab": {
          "base_uri": "https://localhost:8080/",
          "height": 284
        },
        "id": "YQC8WNacEYEW",
        "outputId": "9154fecf-4309-4834-cabb-60d8019cd226"
      },
      "execution_count": 40,
      "outputs": [
        {
          "output_type": "execute_result",
          "data": {
            "text/plain": [
              "[<matplotlib.lines.Line2D at 0x7f1b14936290>]"
            ]
          },
          "metadata": {},
          "execution_count": 40
        },
        {
          "output_type": "display_data",
          "data": {
            "text/plain": [
              "<Figure size 432x288 with 1 Axes>"
            ],
            "image/png": "[encoded data removed]"
          },
          "metadata": {
            "needs_background": "light"
          }
        }
      ]
    },
    {
      "cell_type": "markdown",
      "source": [
        "학습이 잘 된다."
      ],
      "metadata": {
        "id": "4_Lp8nVHFDuq"
      }
    },
    {
      "cell_type": "markdown",
      "source": [
        "아래와 같은 수식을 이용하여 accuracy를 계산하라."
      ],
      "metadata": {
        "id": "HPF7jlmpFFIu"
      }
    },
    {
      "cell_type": "code",
      "source": [
        "ytilde = (yhat>0.5)*1\n",
        "ytilde"
      ],
      "metadata": {
        "colab": {
          "base_uri": "https://localhost:8080/"
        },
        "id": "C8gvOdjLFIOj",
        "outputId": "b34ff132-ebb2-4494-cefb-807bf37a2b93"
      },
      "execution_count": 43,
      "outputs": [
        {
          "output_type": "execute_result",
          "data": {
            "text/plain": [
              "tensor([[0],\n",
              "        [0],\n",
              "        [0],\n",
              "        ...,\n",
              "        [1],\n",
              "        [1],\n",
              "        [1]])"
            ]
          },
          "metadata": {},
          "execution_count": 43
        }
      ]
    },
    {
      "cell_type": "code",
      "source": [
        "(ytilde==y)*1\n"
      ],
      "metadata": {
        "colab": {
          "base_uri": "https://localhost:8080/"
        },
        "id": "-cpgJO6lFTm7",
        "outputId": "22044c38-8f9c-4f0a-fe1c-7c3db9c671a3"
      },
      "execution_count": 44,
      "outputs": [
        {
          "output_type": "execute_result",
          "data": {
            "text/plain": [
              "tensor([[1],\n",
              "        [1],\n",
              "        [1],\n",
              "        ...,\n",
              "        [1],\n",
              "        [1],\n",
              "        [1]])"
            ]
          },
          "metadata": {},
          "execution_count": 44
        }
      ]
    },
    {
      "cell_type": "code",
      "source": [
        "torch.sum((ytilde == y)*1) \n",
        "torch.sum((ytilde == y)*1)  / len(y)"
      ],
      "metadata": {
        "colab": {
          "base_uri": "https://localhost:8080/"
        },
        "id": "wAFnbafpFbun",
        "outputId": "03995557-09a4-4576-ccd7-74f6e42cb79f"
      },
      "execution_count": 45,
      "outputs": [
        {
          "output_type": "execute_result",
          "data": {
            "text/plain": [
              "tensor(0.9995)"
            ]
          },
          "metadata": {},
          "execution_count": 45
        }
      ]
    }
  ]
}